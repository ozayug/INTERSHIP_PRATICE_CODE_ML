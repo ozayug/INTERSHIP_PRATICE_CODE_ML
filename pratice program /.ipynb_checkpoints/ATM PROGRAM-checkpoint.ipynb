{
 "cells": [
  {
   "cell_type": "markdown",
   "id": "8faac007-d3d7-42bc-8198-1b05c0f32032",
   "metadata": {},
   "source": [
    "**ATM MEACHINE**"
   ]
  },
  {
   "cell_type": "code",
   "execution_count": 50,
   "id": "e0eeb509-5ead-4ad6-bafc-24d3a5f5d818",
   "metadata": {},
   "outputs": [],
   "source": [
    "account_balance=10000"
   ]
  },
  {
   "cell_type": "code",
   "execution_count": null,
   "id": "ce610376-782a-45e8-93e9-8c63849e739a",
   "metadata": {},
   "outputs": [],
   "source": [
    "pin=1234"
   ]
  },
  {
   "cell_type": "code",
   "execution_count": null,
   "id": "8d65d85e-bb3a-453c-9959-b94776d047bb",
   "metadata": {},
   "outputs": [
    {
     "name": "stdout",
     "output_type": "stream",
     "text": [
      "ATM MACHINE\n",
      "1. Withdraw\n",
      "2. Deposit\n",
      "3. Check Balance\n",
      "4. Change Pin\n",
      "5. Exit\n"
     ]
    },
    {
     "name": "stdin",
     "output_type": "stream",
     "text": [
      "Enter your choice... 1\n"
     ]
    },
    {
     "name": "stdout",
     "output_type": "stream",
     "text": [
      "withdraw\n"
     ]
    },
    {
     "name": "stdin",
     "output_type": "stream",
     "text": [
      "Enter your amount... 500\n"
     ]
    },
    {
     "name": "stdout",
     "output_type": "stream",
     "text": [
      "your withdrawal is successfuly thank you...... new balance : 9500\n",
      "ATM MACHINE\n",
      "1. Withdraw\n",
      "2. Deposit\n",
      "3. Check Balance\n",
      "4. Change Pin\n",
      "5. Exit\n"
     ]
    },
    {
     "name": "stdin",
     "output_type": "stream",
     "text": [
      "Enter your choice... 2\n"
     ]
    },
    {
     "name": "stdout",
     "output_type": "stream",
     "text": [
      "Deposit\n"
     ]
    },
    {
     "name": "stdin",
     "output_type": "stream",
     "text": [
      "Enter the deposit amount... 1000\n"
     ]
    },
    {
     "name": "stdout",
     "output_type": "stream",
     "text": [
      "your deposit amount is successfuly......\n",
      "ATM MACHINE\n",
      "1. Withdraw\n",
      "2. Deposit\n",
      "3. Check Balance\n",
      "4. Change Pin\n",
      "5. Exit\n"
     ]
    },
    {
     "name": "stdin",
     "output_type": "stream",
     "text": [
      "Enter your choice... 1\n"
     ]
    },
    {
     "name": "stdout",
     "output_type": "stream",
     "text": [
      "withdraw\n"
     ]
    },
    {
     "name": "stdin",
     "output_type": "stream",
     "text": [
      "Enter your amount... 1000\n"
     ]
    },
    {
     "name": "stdout",
     "output_type": "stream",
     "text": [
      "your withdrawal is successfuly thank you...... new balance : 9500\n",
      "ATM MACHINE\n",
      "1. Withdraw\n",
      "2. Deposit\n",
      "3. Check Balance\n",
      "4. Change Pin\n",
      "5. Exit\n"
     ]
    },
    {
     "name": "stdin",
     "output_type": "stream",
     "text": [
      "Enter your choice... 1\n"
     ]
    },
    {
     "name": "stdout",
     "output_type": "stream",
     "text": [
      "withdraw\n"
     ]
    },
    {
     "name": "stdin",
     "output_type": "stream",
     "text": [
      "Enter your amount... 100\n"
     ]
    },
    {
     "name": "stdout",
     "output_type": "stream",
     "text": [
      "your withdrawal is successfuly thank you...... new balance : 9400\n",
      "ATM MACHINE\n",
      "1. Withdraw\n",
      "2. Deposit\n",
      "3. Check Balance\n",
      "4. Change Pin\n",
      "5. Exit\n"
     ]
    },
    {
     "name": "stdin",
     "output_type": "stream",
     "text": [
      "Enter your choice... 2\n"
     ]
    },
    {
     "name": "stdout",
     "output_type": "stream",
     "text": [
      "Deposit\n"
     ]
    },
    {
     "name": "stdin",
     "output_type": "stream",
     "text": [
      "Enter the deposit amount... 10000\n"
     ]
    },
    {
     "name": "stdout",
     "output_type": "stream",
     "text": [
      "your deposit amount is successfuly......\n",
      "ATM MACHINE\n",
      "1. Withdraw\n",
      "2. Deposit\n",
      "3. Check Balance\n",
      "4. Change Pin\n",
      "5. Exit\n"
     ]
    }
   ],
   "source": [
    "while True:\n",
    "        print(\"ATM MACHINE\")\n",
    "        print(\"1. Withdraw\")\n",
    "        print(\"2. Deposit\")\n",
    "        print(\"3. Check Balance\")\n",
    "        print(\"4. Change Pin\")\n",
    "        print(\"5. Exit\")\n",
    "    \n",
    "        chocie=int(input(\"Enter your choice...\"))\n",
    "\n",
    "        \n",
    "        if chocie==1:\n",
    "            print(\"withdraw\")\n",
    "            amount =int(input(\"Enter your amount...\"))\n",
    "            if amount<=account_balance:\n",
    "                account_balance -=amount\n",
    "                print(\"your withdrawal is successfuly thank you...... new balance :\", account_balance)\n",
    "            else:\n",
    "                print(\"Insufficent balance.....\")\n",
    "        \n",
    "        elif chocie==2:\n",
    "            print(\"Deposit\")\n",
    "            amount =int(input(\"Enter the deposit amount...\"))\n",
    "            account_balance +=amount\n",
    "            print(\"your deposit amount is successfuly......\")\n",
    "\n",
    "        elif chocie==3:\n",
    "            print(\"your acoount balance is :\", account_balance)\n",
    "\n",
    "        elif chocie==4:\n",
    "            print(\"Change PIN\")\n",
    "            old_pin = int(input(\"Enter old PIN: \"))\n",
    "            if old_pin == pin:\n",
    "                new_pin = int(input(\"Enter new PIN: \"))\n",
    "                pin = new_pin\n",
    "                print(\"PIN changed successfully\")\n",
    "        else:\n",
    "            print(\"Invalid old PIN\")\n",
    "\n",
    "        elif choice == 5:\n",
    "    # Exit\n",
    "            print(\"Exiting ATM machine. Goodbye!\")\n",
    "            break"
   ]
  }
 ],
 "metadata": {
  "kernelspec": {
   "display_name": "Python 3 (ipykernel)",
   "language": "python",
   "name": "python3"
  },
  "language_info": {
   "codemirror_mode": {
    "name": "ipython",
    "version": 3
   },
   "file_extension": ".py",
   "mimetype": "text/x-python",
   "name": "python",
   "nbconvert_exporter": "python",
   "pygments_lexer": "ipython3",
   "version": "3.12.4"
  }
 },
 "nbformat": 4,
 "nbformat_minor": 5
}
