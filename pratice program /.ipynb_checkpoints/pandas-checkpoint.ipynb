{
 "cells": [
  {
   "cell_type": "code",
   "execution_count": 1,
   "id": "e3d03128-1b36-42bb-b0b0-730b8862f445",
   "metadata": {},
   "outputs": [],
   "source": [
    "import pandas as pd \n",
    "import numpy as np"
   ]
  },
  {
   "cell_type": "code",
   "execution_count": 2,
   "id": "67d26c33-1a20-44ce-9ddf-c91d0872b276",
   "metadata": {},
   "outputs": [],
   "source": [
    "data={\"name\":[\"mitesh\",\"harakh\",\"hiren\"],\n",
    "    \"surname\":[\"rana\",\"vahgela\",\"sapra\"],\n",
    "    \"salary\":[20000,34000,30000],\n",
    "     \"age\":[12,23,45]}"
   ]
  },
  {
   "cell_type": "code",
   "execution_count": 3,
   "id": "0cff2033-892f-42ac-b2f9-3e3bc8473dd0",
   "metadata": {},
   "outputs": [
    {
     "data": {
      "text/plain": [
       "{'name': ['mitesh', 'harakh', 'hiren'],\n",
       " 'surname': ['rana', 'vahgela', 'sapra'],\n",
       " 'salary': [20000, 34000, 30000],\n",
       " 'age': [12, 23, 45]}"
      ]
     },
     "execution_count": 3,
     "metadata": {},
     "output_type": "execute_result"
    }
   ],
   "source": [
    "data"
   ]
  },
  {
   "cell_type": "code",
   "execution_count": 4,
   "id": "86682a64-3641-4dbf-915f-254dede2b9f5",
   "metadata": {},
   "outputs": [
    {
     "data": {
      "text/html": [
       "<div>\n",
       "<style scoped>\n",
       "    .dataframe tbody tr th:only-of-type {\n",
       "        vertical-align: middle;\n",
       "    }\n",
       "\n",
       "    .dataframe tbody tr th {\n",
       "        vertical-align: top;\n",
       "    }\n",
       "\n",
       "    .dataframe thead th {\n",
       "        text-align: right;\n",
       "    }\n",
       "</style>\n",
       "<table border=\"1\" class=\"dataframe\">\n",
       "  <thead>\n",
       "    <tr style=\"text-align: right;\">\n",
       "      <th></th>\n",
       "      <th>name</th>\n",
       "      <th>surname</th>\n",
       "      <th>salary</th>\n",
       "      <th>age</th>\n",
       "    </tr>\n",
       "  </thead>\n",
       "  <tbody>\n",
       "    <tr>\n",
       "      <th>0</th>\n",
       "      <td>mitesh</td>\n",
       "      <td>rana</td>\n",
       "      <td>20000</td>\n",
       "      <td>12</td>\n",
       "    </tr>\n",
       "    <tr>\n",
       "      <th>1</th>\n",
       "      <td>harakh</td>\n",
       "      <td>vahgela</td>\n",
       "      <td>34000</td>\n",
       "      <td>23</td>\n",
       "    </tr>\n",
       "    <tr>\n",
       "      <th>2</th>\n",
       "      <td>hiren</td>\n",
       "      <td>sapra</td>\n",
       "      <td>30000</td>\n",
       "      <td>45</td>\n",
       "    </tr>\n",
       "  </tbody>\n",
       "</table>\n",
       "</div>"
      ],
      "text/plain": [
       "     name  surname  salary  age\n",
       "0  mitesh     rana   20000   12\n",
       "1  harakh  vahgela   34000   23\n",
       "2   hiren    sapra   30000   45"
      ]
     },
     "execution_count": 4,
     "metadata": {},
     "output_type": "execute_result"
    }
   ],
   "source": [
    "df=pd.DataFrame(data)"
   ]
  },
  {
   "cell_type": "code",
   "execution_count": 5,
   "id": "07b3d229-d390-4a67-87f8-82d399bc3b32",
   "metadata": {},
   "outputs": [
    {
     "ename": "NameError",
     "evalue": "name 'df' is not defined",
     "output_type": "error",
     "traceback": [
      "\u001b[0;31m---------------------------------------------------------------------------\u001b[0m",
      "\u001b[0;31mNameError\u001b[0m                                 Traceback (most recent call last)",
      "Cell \u001b[0;32mIn[5], line 1\u001b[0m\n\u001b[0;32m----> 1\u001b[0m df\n",
      "\u001b[0;31mNameError\u001b[0m: name 'df' is not defined"
     ]
    }
   ],
   "source": [
    "df"
   ]
  },
  {
   "cell_type": "code",
   "execution_count": null,
   "id": "819a82d7-c09a-42a3-902c-2dce79e82cff",
   "metadata": {},
   "outputs": [],
   "source": [
    "df[\"total\"]=df[\"salary\"]/df[\"age\"]"
   ]
  },
  {
   "cell_type": "code",
   "execution_count": null,
   "id": "cd57e856-a3da-4a90-a310-93893815079a",
   "metadata": {},
   "outputs": [],
   "source": [
    "df"
   ]
  },
  {
   "cell_type": "code",
   "execution_count": null,
   "id": "cbc54635-9432-41c4-a6cd-a6717d200fac",
   "metadata": {},
   "outputs": [],
   "source": [
    "df[\"a\"]=[23,45,67]"
   ]
  },
  {
   "cell_type": "code",
   "execution_count": null,
   "id": "988369e3-815d-44e2-a3be-ae7cc5fbce39",
   "metadata": {},
   "outputs": [],
   "source": [
    "df"
   ]
  },
  {
   "cell_type": "code",
   "execution_count": null,
   "id": "a1f5fea6-13e2-4fe1-8c49-56a0f3ff63c0",
   "metadata": {},
   "outputs": [],
   "source": [
    "df1=pd.DataFrame(data)"
   ]
  },
  {
   "cell_type": "code",
   "execution_count": null,
   "id": "921da46c-e269-4240-8244-eaae204a90e2",
   "metadata": {},
   "outputs": [],
   "source": [
    "df1"
   ]
  },
  {
   "cell_type": "code",
   "execution_count": null,
   "id": "160a57dc-cdf9-48cb-a332-252161259f91",
   "metadata": {},
   "outputs": [],
   "source": [
    "df=pd.concat([df,df1])"
   ]
  },
  {
   "cell_type": "code",
   "execution_count": null,
   "id": "70ae9404-cd74-4eaf-9216-6d901c7bf61b",
   "metadata": {},
   "outputs": [],
   "source": [
    "df"
   ]
  },
  {
   "cell_type": "code",
   "execution_count": null,
   "id": "5f424baa-b96e-4065-b4d9-e7078087e037",
   "metadata": {},
   "outputs": [],
   "source": [
    "df=df.reset_index()"
   ]
  },
  {
   "cell_type": "code",
   "execution_count": null,
   "id": "8e88e537-a05d-493f-97ce-a261bf207c3e",
   "metadata": {},
   "outputs": [],
   "source": [
    "df.drop([\"index\"],axis=1,inplace=True)"
   ]
  },
  {
   "cell_type": "code",
   "execution_count": null,
   "id": "d1336386-8c32-4496-9b62-6e6d0ade1cc4",
   "metadata": {},
   "outputs": [],
   "source": [
    "df"
   ]
  },
  {
   "cell_type": "code",
   "execution_count": null,
   "id": "fa980803-1bb4-46a1-a374-f1a28f404132",
   "metadata": {},
   "outputs": [],
   "source": [
    "df.info()"
   ]
  },
  {
   "cell_type": "code",
   "execution_count": null,
   "id": "9554352c-33b8-4e1b-a35a-233d3bf67d82",
   "metadata": {},
   "outputs": [],
   "source": [
    "df.describe()"
   ]
  },
  {
   "cell_type": "code",
   "execution_count": null,
   "id": "6ea83f84-0b6d-48a0-9c10-8f22f9c1e5ee",
   "metadata": {},
   "outputs": [],
   "source": [
    "df.isna().sum()"
   ]
  },
  {
   "cell_type": "code",
   "execution_count": null,
   "id": "b4e89cde-9916-45dd-9be1-4ff6a3e62ccb",
   "metadata": {},
   "outputs": [],
   "source": [
    "df.shape"
   ]
  },
  {
   "cell_type": "code",
   "execution_count": null,
   "id": "f72ad767-2dc5-40f9-bb44-e466c32eefd3",
   "metadata": {},
   "outputs": [],
   "source": [
    "df.columns"
   ]
  },
  {
   "cell_type": "code",
   "execution_count": null,
   "id": "97da223f-42b0-4a3f-a566-55fbb68480ef",
   "metadata": {},
   "outputs": [],
   "source": [
    "df.index"
   ]
  },
  {
   "cell_type": "code",
   "execution_count": null,
   "id": "c8eced84-4a85-4477-ab96-f28e2ca34615",
   "metadata": {},
   "outputs": [],
   "source": [
    "df"
   ]
  },
  {
   "cell_type": "code",
   "execution_count": null,
   "id": "77c5a63d-fd87-4c33-a50d-ee90d60d340f",
   "metadata": {},
   "outputs": [],
   "source": [
    "df[\"name\"].value_counts()"
   ]
  },
  {
   "cell_type": "code",
   "execution_count": null,
   "id": "ed4f8b6f-c547-46f6-8b25-723d36e5c4d6",
   "metadata": {},
   "outputs": [],
   "source": [
    "df.name.sum()"
   ]
  },
  {
   "cell_type": "code",
   "execution_count": null,
   "id": "6d4a64b4-a700-4cd7-bb35-c8ccef01b8bf",
   "metadata": {},
   "outputs": [],
   "source": [
    "df.name.nunique()"
   ]
  },
  {
   "cell_type": "code",
   "execution_count": null,
   "id": "c2c91ee5-01a6-4e14-9659-91c521545e8c",
   "metadata": {},
   "outputs": [],
   "source": [
    "df.name.unique()"
   ]
  },
  {
   "cell_type": "code",
   "execution_count": null,
   "id": "77a7c7f5-36fc-40cb-a012-a6e9a6f70ea6",
   "metadata": {},
   "outputs": [],
   "source": [
    "df.name.unique()"
   ]
  },
  {
   "cell_type": "code",
   "execution_count": null,
   "id": "765183a1-f92d-4370-80b4-a189f954931d",
   "metadata": {},
   "outputs": [],
   "source": [
    "len(df.name)"
   ]
  },
  {
   "cell_type": "code",
   "execution_count": null,
   "id": "51dc739c-b631-4309-98ff-d10674fadadb",
   "metadata": {},
   "outputs": [],
   "source": [
    "df"
   ]
  },
  {
   "cell_type": "code",
   "execution_count": null,
   "id": "a95550fc-75ad-440e-93b7-6de9da4e4823",
   "metadata": {},
   "outputs": [],
   "source": [
    "df.loc[df[\"name\"]==\"mitesh\"]"
   ]
  },
  {
   "cell_type": "code",
   "execution_count": null,
   "id": "062efca2-5049-4578-be91-69bf2e1d6eb1",
   "metadata": {},
   "outputs": [],
   "source": [
    "df.loc[df[\"age\"]>21]"
   ]
  },
  {
   "cell_type": "code",
   "execution_count": null,
   "id": "d0b83ebc-c8f6-4ebb-9c74-08bbefcb8942",
   "metadata": {},
   "outputs": [],
   "source": [
    "df.iloc[3:6,1:3]"
   ]
  },
  {
   "cell_type": "code",
   "execution_count": null,
   "id": "f8ce51b2-55a5-4926-a879-6f39f5974304",
   "metadata": {},
   "outputs": [],
   "source": [
    "df"
   ]
  },
  {
   "cell_type": "code",
   "execution_count": null,
   "id": "c790be24-c3d2-4790-8f62-75373a0d4ad1",
   "metadata": {},
   "outputs": [],
   "source": [
    "df.iloc[4:6,4:6]"
   ]
  },
  {
   "cell_type": "code",
   "execution_count": null,
   "id": "a167ca50-3fb3-46ec-807f-258d5c87c99a",
   "metadata": {},
   "outputs": [],
   "source": [
    "df[\"toal\"]=df[\"total\"].fillna(0)"
   ]
  },
  {
   "cell_type": "code",
   "execution_count": null,
   "id": "ae998eba-b92c-40ab-9348-cb1b367491b2",
   "metadata": {},
   "outputs": [],
   "source": [
    "df"
   ]
  },
  {
   "cell_type": "code",
   "execution_count": null,
   "id": "cc28e5e8-b578-41fc-a6c5-42edd8419fea",
   "metadata": {},
   "outputs": [],
   "source": [
    "df[\"a\"].mean()"
   ]
  },
  {
   "cell_type": "code",
   "execution_count": null,
   "id": "e89b0667-01f8-4234-aa0c-2a8e56d9fe58",
   "metadata": {},
   "outputs": [],
   "source": [
    "df.iloc[4:5,:1]"
   ]
  },
  {
   "cell_type": "code",
   "execution_count": null,
   "id": "db00203b-4a36-4aee-8f99-659d90bbdd32",
   "metadata": {},
   "outputs": [],
   "source": [
    "df.iloc[1:2,:1]=df.iloc[1:2,:1].replace(\"harakh\",\"darshan\")"
   ]
  },
  {
   "cell_type": "code",
   "execution_count": null,
   "id": "f63e24ae-ab2e-4916-afeb-24d4c710522a",
   "metadata": {},
   "outputs": [],
   "source": [
    "df"
   ]
  },
  {
   "cell_type": "code",
   "execution_count": null,
   "id": "af68e9f5-f560-4212-8f63-6ed6e3209821",
   "metadata": {},
   "outputs": [],
   "source": [
    "df.rename({\"a\":\"num\"},axis=1)"
   ]
  },
  {
   "cell_type": "code",
   "execution_count": null,
   "id": "6244cceb-de1d-46a6-b826-d5580418c503",
   "metadata": {},
   "outputs": [],
   "source": [
    "df.iloc[4:,4:6]"
   ]
  },
  {
   "cell_type": "code",
   "execution_count": null,
   "id": "6741341b-998c-40ba-b8b4-5e95eb1504f7",
   "metadata": {},
   "outputs": [],
   "source": [
    "df.iloc[4:5,4:5]=5"
   ]
  },
  {
   "cell_type": "code",
   "execution_count": null,
   "id": "86f98cbe-8a7b-4eea-95d9-80a62cdea7b1",
   "metadata": {},
   "outputs": [],
   "source": [
    "df"
   ]
  },
  {
   "cell_type": "code",
   "execution_count": null,
   "id": "d1ed11b6-7d1a-4e4d-8e49-bdfa899ce79d",
   "metadata": {},
   "outputs": [],
   "source": [
    "df.iloc[3:5,4:5]=df.iloc[3:5,4:5].fillna(6)"
   ]
  },
  {
   "cell_type": "code",
   "execution_count": null,
   "id": "be4562c7-ea9e-450e-aee3-d121586d980c",
   "metadata": {},
   "outputs": [],
   "source": [
    "df"
   ]
  },
  {
   "cell_type": "code",
   "execution_count": null,
   "id": "86ae6345-8ee7-402e-b274-1624174ac0cb",
   "metadata": {},
   "outputs": [],
   "source": [
    "df.iloc[5:,:1]=np.nan"
   ]
  },
  {
   "cell_type": "code",
   "execution_count": null,
   "id": "053c17e9-c6f9-4b20-bcfe-0f7bffa705d9",
   "metadata": {},
   "outputs": [],
   "source": [
    "df"
   ]
  },
  {
   "cell_type": "code",
   "execution_count": null,
   "id": "c791103b-a796-4a48-9dc4-bf74986eedfc",
   "metadata": {},
   "outputs": [],
   "source": [
    "df.iloc[5:,:1]=df[\"name\"].mode()[0]"
   ]
  },
  {
   "cell_type": "code",
   "execution_count": null,
   "id": "52044f28-6365-4162-a447-d7f274909e92",
   "metadata": {},
   "outputs": [],
   "source": [
    "df"
   ]
  }
 ],
 "metadata": {
  "kernelspec": {
   "display_name": "Python 3 (ipykernel)",
   "language": "python",
   "name": "python3"
  },
  "language_info": {
   "codemirror_mode": {
    "name": "ipython",
    "version": 3
   },
   "file_extension": ".py",
   "mimetype": "text/x-python",
   "name": "python",
   "nbconvert_exporter": "python",
   "pygments_lexer": "ipython3",
   "version": "3.12.4"
  }
 },
 "nbformat": 4,
 "nbformat_minor": 5
}
