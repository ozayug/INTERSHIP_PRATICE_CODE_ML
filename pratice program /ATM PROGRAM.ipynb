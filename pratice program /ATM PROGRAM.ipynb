{
 "cells": [
  {
   "cell_type": "markdown",
   "id": "8faac007-d3d7-42bc-8198-1b05c0f32032",
   "metadata": {},
   "source": [
    "**ATM MEACHINE**"
   ]
  },
  {
   "cell_type": "code",
   "execution_count": 55,
   "id": "2d6c78c0-ceb6-4dfd-afdf-9b2894c2be85",
   "metadata": {},
   "outputs": [
    {
     "name": "stdin",
     "output_type": "stream",
     "text": [
      "Enter your card number:  1234567890\n",
      "Enter your PIN:  2012\n"
     ]
    },
    {
     "name": "stdout",
     "output_type": "stream",
     "text": [
      "\n",
      "1. Check Balance\n",
      "2. Deposit\n",
      "3. Withdraw\n",
      "4. Change PIN\n",
      "5. Exit\n"
     ]
    },
    {
     "name": "stdin",
     "output_type": "stream",
     "text": [
      "Enter your choice:  1\n"
     ]
    },
    {
     "name": "stdout",
     "output_type": "stream",
     "text": [
      "Your current balance is: ₹ 0.0\n",
      "\n",
      "1. Check Balance\n",
      "2. Deposit\n",
      "3. Withdraw\n",
      "4. Change PIN\n",
      "5. Exit\n"
     ]
    },
    {
     "name": "stdin",
     "output_type": "stream",
     "text": [
      "Enter your choice:  2\n",
      "Enter amount to deposit: ₹ 10000\n"
     ]
    },
    {
     "name": "stdout",
     "output_type": "stream",
     "text": [
      "Deposit successful. Your new balance is: ₹ 10000.0\n",
      "\n",
      "1. Check Balance\n",
      "2. Deposit\n",
      "3. Withdraw\n",
      "4. Change PIN\n",
      "5. Exit\n"
     ]
    },
    {
     "name": "stdin",
     "output_type": "stream",
     "text": [
      "Enter your choice:  3\n",
      "Enter amount to withdraw: ₹ 5000\n"
     ]
    },
    {
     "name": "stdout",
     "output_type": "stream",
     "text": [
      "Withdrawal successful. Your new balance is: ₹ 5000.0\n",
      "\n",
      "1. Check Balance\n",
      "2. Deposit\n",
      "3. Withdraw\n",
      "4. Change PIN\n",
      "5. Exit\n"
     ]
    },
    {
     "name": "stdin",
     "output_type": "stream",
     "text": [
      "Enter your choice:  5\n"
     ]
    },
    {
     "name": "stdout",
     "output_type": "stream",
     "text": [
      "Thank you for using our ATM services.\n"
     ]
    }
   ],
   "source": [
    "class ATM:\n",
    "    def __init__(self, card_number, pin, balance=0.00):\n",
    "        self.card_number = card_number\n",
    "        self.pin = pin\n",
    "        self.balance = balance\n",
    "\n",
    "    def check_balance(self):\n",
    "        print(\"Your current balance is: ₹\", self.balance)\n",
    "\n",
    "    def deposit(self, amount):\n",
    "        self.balance += amount\n",
    "        print(\"Deposit successful. Your new balance is: ₹\", self.balance)\n",
    "\n",
    "    def withdraw(self, amount):\n",
    "        if amount > self.balance:\n",
    "            print(\"Insufficient funds. Transaction declined.\")\n",
    "        else:\n",
    "            self.balance -= amount\n",
    "            print(\"Withdrawal successful. Your new balance is: ₹\", self.balance)\n",
    "\n",
    "    def change_pin(self, old_pin, new_pin):\n",
    "        if old_pin == self.pin:\n",
    "            self.pin = new_pin\n",
    "            print(\"PIN changed successfully.\")\n",
    "        else:\n",
    "            print(\"Invalid old PIN. PIN change failed.\")\n",
    "\n",
    "    def exit(self):\n",
    "        print(\"Thank you for using our ATM services.\")\n",
    "\n",
    "def main():\n",
    "    card_number = input(\"Enter your card number: \")\n",
    "    pin = input(\"Enter your PIN: \")\n",
    "    atm = ATM(card_number, pin)\n",
    "\n",
    "    while True:\n",
    "        print(\"\\n1. Check Balance\")\n",
    "        print(\"2. Deposit\")\n",
    "        print(\"3. Withdraw\")\n",
    "        print(\"4. Change PIN\")\n",
    "        print(\"5. Exit\")\n",
    "        choice = input(\"Enter your choice: \")\n",
    "\n",
    "        if choice == \"1\":\n",
    "            atm.check_balance()\n",
    "        elif choice == \"2\":\n",
    "            amount = float(input(\"Enter amount to deposit: ₹\"))\n",
    "            atm.deposit(amount)\n",
    "        elif choice == \"3\":\n",
    "            amount = float(input(\"Enter amount to withdraw: ₹\"))\n",
    "            atm.withdraw(amount)\n",
    "        elif choice == \"4\":\n",
    "            old_pin = input(\"Enter your old PIN: \")\n",
    "            new_pin = input(\"Enter your new PIN: \")\n",
    "            atm.change_pin(old_pin, new_pin)\n",
    "        elif choice == \"5\":\n",
    "            atm.exit()\n",
    "            break\n",
    "        else:\n",
    "            print(\"Invalid choice. Please try again.\")\n",
    "\n",
    "if __name__ == \"__main__\":\n",
    "    main()"
   ]
  }
 ],
 "metadata": {
  "kernelspec": {
   "display_name": "Python 3 (ipykernel)",
   "language": "python",
   "name": "python3"
  },
  "language_info": {
   "codemirror_mode": {
    "name": "ipython",
    "version": 3
   },
   "file_extension": ".py",
   "mimetype": "text/x-python",
   "name": "python",
   "nbconvert_exporter": "python",
   "pygments_lexer": "ipython3",
   "version": "3.12.4"
  }
 },
 "nbformat": 4,
 "nbformat_minor": 5
}
